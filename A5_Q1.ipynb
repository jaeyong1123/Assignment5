{
 "cells": [
  {
   "cell_type": "markdown",
   "metadata": {
    "nbgrader": {
     "grade": false,
     "grade_id": "q1_prompt",
     "locked": true,
     "schema_version": 1,
     "solution": false
    }
   },
   "source": [
    "# Question 1\n",
    "\n",
    "This question will focus entirely on NumPy arrays: vectorized programming, slicing, and broadcasting."
   ]
  },
  {
   "cell_type": "markdown",
   "metadata": {
    "nbgrader": {
     "grade": false,
     "grade_id": "q1a_prompt",
     "locked": true,
     "schema_version": 1,
     "solution": false
    }
   },
   "source": [
    "### Part A\n",
    "\n",
    "In this question, you'll implement the vector dot product.\n",
    "\n",
    "Write a function which:\n",
    "\n",
    " - is named `dot`\n",
    " - takes two NumPy arrays as arguments\n",
    " - returns one number: the floating-point dot product of the two input vectors\n",
    "\n",
    "Recall how a [dot product](https://en.wikipedia.org/wiki/Dot_product) works: corresponding elements of two arrays are multiplied together, then all these products are summed.\n",
    "\n",
    "For example: if I have two NumPy arrays `[1, 2, 3]` and `[4, 5, 6]`, their dot product would be `(1*4) + (2*5) + (3*6)`, or `4 + 10 + 18`, or 32.\n",
    "\n",
    "You can use NumPy arrays, and the `np.sum()` function, but no other NumPy functions. Also, **no loops are allowed!** This has to be done using *vectorized* computation."
   ]
  },
  {
   "cell_type": "code",
   "execution_count": 1,
   "metadata": {
    "nbgrader": {
     "grade": false,
     "grade_id": "q1a",
     "locked": false,
     "schema_version": 1,
     "solution": true
    }
   },
   "outputs": [],
   "source": [
    "import numpy as np\n",
    "def dot(arr1, arr2):\n",
    "    newArr = arr1*arr2\n",
    "    return np.sum(newArr)\n",
    "    "
   ]
  },
  {
   "cell_type": "code",
   "execution_count": 2,
   "metadata": {
    "nbgrader": {
     "grade": true,
     "grade_id": "q1a_test1",
     "locked": true,
     "points": 5,
     "schema_version": 1,
     "solution": false
    }
   },
   "outputs": [],
   "source": [
    "import numpy as np\n",
    "np.random.seed(57442)\n",
    "\n",
    "x1 = np.random.random(10)\n",
    "x2 = np.random.random(10)\n",
    "np.testing.assert_allclose(x1.dot(x2), dot(x1, x2), rtol = 1e-5)"
   ]
  },
  {
   "cell_type": "code",
   "execution_count": 3,
   "metadata": {
    "nbgrader": {
     "grade": true,
     "grade_id": "q1a_test2",
     "locked": true,
     "points": 5,
     "schema_version": 1,
     "solution": false
    }
   },
   "outputs": [],
   "source": [
    "np.random.seed(495835)\n",
    "\n",
    "x1 = np.random.random(100)\n",
    "x2 = np.random.random(100)\n",
    "np.testing.assert_allclose(x1.dot(x2), dot(x1, x2), rtol = 1e-5)"
   ]
  },
  {
   "cell_type": "markdown",
   "metadata": {
    "nbgrader": {
     "grade": false,
     "grade_id": "q1b_prompt",
     "locked": true,
     "schema_version": 1,
     "solution": false
    }
   },
   "source": [
    "### Part B\n",
    "\n",
    "Write a function which:\n",
    "\n",
    " - is named `less_than`\n",
    " - takes two arguments: a NumPy array, and a floating-point number\n",
    " - returns a NumPy array\n",
    " \n",
    "You should use a boolean mask to return only the values in the NumPy array that are less than the specified floating-point value (the second parameter). No loops are allowed, or any built-in functions or loops.\n",
    "\n",
    "For example, `less_than([1, 2, 3], 2.5)` should return a NumPy array of `[1, 2]`."
   ]
  },
  {
   "cell_type": "code",
   "execution_count": 4,
   "metadata": {
    "nbgrader": {
     "grade": false,
     "grade_id": "q1b",
     "locked": false,
     "schema_version": 1,
     "solution": true
    }
   },
   "outputs": [],
   "source": [
    "def less_than(arr,num):\n",
    "    boolArr = arr < num\n",
    "    newArr = arr[boolArr]\n",
    "    return newArr\n",
    "    "
   ]
  },
  {
   "cell_type": "code",
   "execution_count": 5,
   "metadata": {
    "nbgrader": {
     "grade": true,
     "grade_id": "q1b_test1",
     "locked": true,
     "points": 5,
     "schema_version": 1,
     "solution": false
    }
   },
   "outputs": [],
   "source": [
    "import numpy as np\n",
    "np.random.seed(85928)\n",
    "\n",
    "x = np.random.random((10, 20, 30))\n",
    "t = 0.001\n",
    "y = np.array([ 0.0005339 ,  0.00085714,  0.00091265,  0.00037283])\n",
    "np.testing.assert_allclose(y, less_than(x, t), rtol = 1e-4)"
   ]
  },
  {
   "cell_type": "code",
   "execution_count": 6,
   "metadata": {
    "nbgrader": {
     "grade": true,
     "grade_id": "q1b_test2",
     "locked": true,
     "points": 5,
     "schema_version": 1,
     "solution": false
    }
   },
   "outputs": [],
   "source": [
    "np.random.seed(8643)\n",
    "\n",
    "x2 = np.random.random((100, 100, 10))\n",
    "t2 = 0.0001\n",
    "y2 = np.array([  2.91560413e-06,   6.80065620e-06,   3.63294064e-05,\n",
    "         7.50659065e-05,   1.61602031e-06,   9.37205052e-05])\n",
    "np.testing.assert_allclose(y2, less_than(x2, t2), rtol = 1e-05)"
   ]
  },
  {
   "cell_type": "markdown",
   "metadata": {
    "nbgrader": {
     "grade": false,
     "grade_id": "q1c_prompt",
     "locked": true,
     "schema_version": 1,
     "solution": false
    }
   },
   "source": [
    "### Part C\n",
    "\n",
    "Write a function which:\n",
    "\n",
    " - is named `greater_than`\n",
    " - takes two arguments: a NumPy array, and a threshold number (float)\n",
    " - returns a NumPy array\n",
    " \n",
    "You should use a boolean mask to return only the values in the NumPy array that are greater than the specified `threshold` value (the second parameter). No loops are allowed, or built-in functions, or NumPy functions.\n",
    "\n",
    "For example, `greater_than([1, 2, 3], 2.5)` should return a NumPy array of `[3]`."
   ]
  },
  {
   "cell_type": "code",
   "execution_count": 7,
   "metadata": {
    "nbgrader": {
     "grade": false,
     "grade_id": "q1c",
     "locked": false,
     "schema_version": 1,
     "solution": true
    }
   },
   "outputs": [],
   "source": [
    "def greater_than(arr,num):\n",
    "    boolArr = arr > num\n",
    "    newArr = arr[boolArr]\n",
    "    return newArr\n",
    "    "
   ]
  },
  {
   "cell_type": "code",
   "execution_count": 8,
   "metadata": {
    "nbgrader": {
     "grade": true,
     "grade_id": "q1c_test1",
     "locked": true,
     "points": 5,
     "schema_version": 1,
     "solution": false
    }
   },
   "outputs": [],
   "source": [
    "import numpy as np\n",
    "np.random.seed(592582)\n",
    "\n",
    "x = np.random.random((10, 20, 30))\n",
    "t = 0.999\n",
    "y = np.array([ 0.99910167,  0.99982779,  0.99982253,  0.9991043 ])\n",
    "np.testing.assert_allclose(y, greater_than(x, t), rtol = 1e-5)"
   ]
  },
  {
   "cell_type": "code",
   "execution_count": 9,
   "metadata": {
    "nbgrader": {
     "grade": true,
     "grade_id": "q1c_test2",
     "locked": true,
     "points": 5,
     "schema_version": 1,
     "solution": false
    }
   },
   "outputs": [],
   "source": [
    "np.random.seed(689388)\n",
    "\n",
    "x2 = np.random.random((100, 100, 10))\n",
    "t2 = 0.9999\n",
    "y2 = np.array([ 0.99997265,  0.99991169,  0.99998906,  0.99999012,  0.99992325,\n",
    "        0.99993289,  0.99996637,  0.99996416,  0.99992627,  0.99994388,\n",
    "        0.99993102,  0.99997486,  0.99992968,  0.99997598])\n",
    "np.testing.assert_allclose(y2, greater_than(x2, t2), rtol = 1e-05)"
   ]
  },
  {
   "cell_type": "markdown",
   "metadata": {
    "nbgrader": {
     "grade": false,
     "grade_id": "q1d_prompt",
     "locked": true,
     "schema_version": 1,
     "solution": false
    }
   },
   "source": [
    "### Part D\n",
    "\n",
    "Write a function which:\n",
    "\n",
    " - is named `in_between`\n",
    " - takes three parameters: a NumPy array, a lower threshold (float), and an upper threshold (float)\n",
    " - returns a NumPy array\n",
    " \n",
    "You should use a boolean mask to return only the values in the NumPy array that are *in between* the two specified threshold values, `lower` and `upper`. No loops are allowed, or built-in functions, or NumPy functions.\n",
    "\n",
    "For example, `in_between([1, 2, 3], 1, 3)` should return a NumPy array of `[2]`.\n",
    "\n",
    "Hint: you can use your functions from Parts C and D to help!"
   ]
  },
  {
   "cell_type": "code",
   "execution_count": 23,
   "metadata": {},
   "outputs": [
    {
     "name": "stdout",
     "output_type": "stream",
     "text": [
      "[False  True False]\n"
     ]
    }
   ],
   "source": [
    "a = np.array([1,2,3])\n",
    "b=1\n",
    "c=3\n",
    "\n",
    "boolArr = (a > b) & (a < c)\n",
    "print(boolArr)    "
   ]
  },
  {
   "cell_type": "code",
   "execution_count": 24,
   "metadata": {
    "nbgrader": {
     "grade": false,
     "grade_id": "q1d",
     "locked": false,
     "schema_version": 1,
     "solution": true
    }
   },
   "outputs": [],
   "source": [
    "def in_between(arr,low_num,upp_num):\n",
    "    boolArr = (arr > low_num) & (arr < upp_num)\n",
    "    newArr = arr[boolArr]\n",
    "    return newArr"
   ]
  },
  {
   "cell_type": "code",
   "execution_count": 25,
   "metadata": {
    "nbgrader": {
     "grade": true,
     "grade_id": "q1d_test1",
     "locked": true,
     "points": 5,
     "schema_version": 1,
     "solution": false
    }
   },
   "outputs": [],
   "source": [
    "import numpy as np\n",
    "np.random.seed(7472)\n",
    "\n",
    "x = np.random.random((10, 20, 30))\n",
    "lo = 0.499\n",
    "hi = 0.501\n",
    "y = np.array([ 0.50019884,  0.50039172,  0.500711  ,  0.49983418,  0.49942259,\n",
    "        0.4994417 ,  0.49979261,  0.50029046,  0.5008376 ,  0.49985266,\n",
    "        0.50015914,  0.50068227,  0.50060399,  0.49968918,  0.50091042,\n",
    "        0.50063015,  0.50050032])\n",
    "np.testing.assert_allclose(y, in_between(x, lo, hi), rtol = 1e-6)"
   ]
  },
  {
   "cell_type": "code",
   "execution_count": 26,
   "metadata": {
    "nbgrader": {
     "grade": true,
     "grade_id": "q1d_test2",
     "locked": true,
     "points": 5,
     "schema_version": 1,
     "solution": false
    }
   },
   "outputs": [],
   "source": [
    "import numpy as np\n",
    "np.random.seed(14985)\n",
    "\n",
    "x = np.random.random((30, 40, 50))\n",
    "lo = 0.49999\n",
    "hi = 0.50001\n",
    "y = np.array([ 0.50000714,  0.49999045])\n",
    "np.testing.assert_allclose(y, in_between(x, lo, hi), rtol = 1e-6)"
   ]
  },
  {
   "cell_type": "markdown",
   "metadata": {
    "nbgrader": {
     "grade": false,
     "grade_id": "q1e_prompt",
     "locked": true,
     "schema_version": 1,
     "solution": false
    }
   },
   "source": [
    "### Part E\n",
    "\n",
    "Write a function which:\n",
    "\n",
    " - is named `not_in_between`\n",
    " - takes three parameters: a NumPy array, a lower threshold (float), and an upper threshold (float)\n",
    " - returns a NumPy array\n",
    " \n",
    "You should use a boolean mask to return only the values in the NumPy array that are *NOT in between* the two specified threshold values, `lower` and `upper`. No loops are allowed, or built-in functions, or NumPy functions.\n",
    "\n",
    "For example, `not_in_between([1, 2, 3, 4], 1, 3)` should return a NumPy array of `[4]`.\n",
    "\n",
    "Hint: you can use your functions from Parts C and D to help!"
   ]
  },
  {
   "cell_type": "code",
   "execution_count": 27,
   "metadata": {},
   "outputs": [
    {
     "name": "stdout",
     "output_type": "stream",
     "text": [
      "[False False False  True]\n"
     ]
    }
   ],
   "source": [
    "a = np.array([1,2,3,4])\n",
    "b=1\n",
    "c=3\n",
    "\n",
    "boolArr = (a >= b) & (a <= c)\n",
    "#switchArr = not boolArr\n",
    "print(~boolArr)    "
   ]
  },
  {
   "cell_type": "code",
   "execution_count": 28,
   "metadata": {
    "nbgrader": {
     "grade": false,
     "grade_id": "q1e",
     "locked": false,
     "schema_version": 1,
     "solution": true
    }
   },
   "outputs": [],
   "source": [
    "def not_in_between(arr,low_num,upp_num):\n",
    "    boolArr = (arr >= low_num) & (arr <= upp_num)\n",
    "    newArr = arr[~boolArr]\n",
    "        \n",
    "    return newArr"
   ]
  },
  {
   "cell_type": "code",
   "execution_count": 29,
   "metadata": {
    "nbgrader": {
     "grade": true,
     "grade_id": "q1e_test1",
     "locked": true,
     "points": 5,
     "schema_version": 1,
     "solution": false
    }
   },
   "outputs": [],
   "source": [
    "import numpy as np\n",
    "np.random.seed(475185)\n",
    "\n",
    "x = np.random.random((10, 20, 30))\n",
    "lo = 0.001\n",
    "hi = 0.999\n",
    "y = np.array([  9.52511605e-04,   8.62993716e-04,   3.70243252e-04,\n",
    "         9.99945849e-01,   7.21751759e-04,   9.36931041e-04,\n",
    "         5.10792605e-04,   6.44911672e-04])\n",
    "np.testing.assert_allclose(y, not_in_between(x, lo, hi), rtol = 1e-6)"
   ]
  },
  {
   "cell_type": "code",
   "execution_count": 30,
   "metadata": {
    "nbgrader": {
     "grade": true,
     "grade_id": "q1e_test2",
     "locked": true,
     "points": 5,
     "schema_version": 1,
     "solution": false
    }
   },
   "outputs": [],
   "source": [
    "np.random.seed(51954)\n",
    "\n",
    "x = np.random.random((30, 40, 50))\n",
    "lo = 0.00001\n",
    "hi = 0.99999\n",
    "y = np.array([  8.46159001e-06,   9.99998669e-01,   9.99993873e-01,\n",
    "         5.58488698e-06,   9.99993348e-01])\n",
    "np.testing.assert_allclose(y, not_in_between(x, lo, hi), rtol = 1e-6)"
   ]
  },
  {
   "cell_type": "markdown",
   "metadata": {
    "nbgrader": {
     "grade": false,
     "grade_id": "q1f_prompt",
     "locked": true,
     "schema_version": 1,
     "solution": false
    }
   },
   "source": [
    "### Part F\n",
    "\n",
    "Write a function which:\n",
    "\n",
    " - is named `reverse_array`\n",
    " - takes 1 parameter: a 1D NumPy array of data\n",
    " - returns the 1D NumPy array, reversed\n",
    "\n",
    "This function uses fancy indexing to reverse the ordering of the elements in the input array, and returns the reversed array. You *cannot* use the `[::-1]` notation, nor the built-in `reversed` method, or any other Python function or loops. You **can** use the `list()`, `range()`, and `np.arange()` functions, however, and only some or all of those (but again, no loops!).\n",
    "\n",
    "Hint: Construct a list of indices and use NumPy fancy indexing to reverse the ordering of the elements in the input list, then return the reversed array."
   ]
  },
  {
   "cell_type": "code",
   "execution_count": 35,
   "metadata": {
    "nbgrader": {
     "grade": false,
     "grade_id": "q1f",
     "locked": false,
     "schema_version": 1,
     "solution": true
    }
   },
   "outputs": [
    {
     "ename": "SyntaxError",
     "evalue": "invalid syntax (<ipython-input-35-8bd8c3cadfc1>, line 5)",
     "output_type": "error",
     "traceback": [
      "\u001b[1;36m  File \u001b[1;32m\"<ipython-input-35-8bd8c3cadfc1>\"\u001b[1;36m, line \u001b[1;32m5\u001b[0m\n\u001b[1;33m    newList = (arr[length-1:], arr[])\u001b[0m\n\u001b[1;37m                                   ^\u001b[0m\n\u001b[1;31mSyntaxError\u001b[0m\u001b[1;31m:\u001b[0m invalid syntax\n"
     ]
    }
   ],
   "source": [
    "#This doesn't work\n",
    "def reverse_array(arr):\n",
    "    ran= range(arr)\n",
    "    length = len(arr)\n",
    "    newList = (arr[length-1:], arr[])\n",
    "    start = arr[length -1:]\n",
    "    max_index = length -1\n",
    "    iteration = length / 2\n",
    "    return newList\n",
    "    "
   ]
  },
  {
   "cell_type": "code",
   "execution_count": 32,
   "metadata": {},
   "outputs": [],
   "source": [
    "def reverse_array(array):\n",
    "    start = array.shape[0]-1\n",
    "    end = -1\n",
    "    move = -1\n",
    "    index = np.arange(start, end, move)\n",
    "    print(index)\n",
    "    newList = array[index]\n",
    "    return newList"
   ]
  },
  {
   "cell_type": "code",
   "execution_count": 33,
   "metadata": {
    "nbgrader": {
     "grade": true,
     "grade_id": "q1f_test1",
     "locked": true,
     "points": 5,
     "schema_version": 1,
     "solution": false
    }
   },
   "outputs": [
    {
     "name": "stdout",
     "output_type": "stream",
     "text": [
      "[74 73 72 71 70 69 68 67 66 65 64 63 62 61 60 59 58 57 56 55 54 53 52 51\n",
      " 50 49 48 47 46 45 44 43 42 41 40 39 38 37 36 35 34 33 32 31 30 29 28 27\n",
      " 26 25 24 23 22 21 20 19 18 17 16 15 14 13 12 11 10  9  8  7  6  5  4  3\n",
      "  2  1  0]\n"
     ]
    }
   ],
   "source": [
    "import numpy as np\n",
    "np.random.seed(5748)\n",
    "\n",
    "x1 = np.random.random(75)\n",
    "y1 = x1[::-1]  # Sorry, you're not allowed to do this!\n",
    "np.testing.assert_allclose(y1, reverse_array(x1), rtol = 1e-6)"
   ]
  },
  {
   "cell_type": "code",
   "execution_count": 34,
   "metadata": {
    "nbgrader": {
     "grade": true,
     "grade_id": "q1f_test2",
     "locked": true,
     "points": 5,
     "schema_version": 1,
     "solution": false
    }
   },
   "outputs": [
    {
     "name": "stdout",
     "output_type": "stream",
     "text": [
      "[580 579 578 577 576 575 574 573 572 571 570 569 568 567 566 565 564 563\n",
      " 562 561 560 559 558 557 556 555 554 553 552 551 550 549 548 547 546 545\n",
      " 544 543 542 541 540 539 538 537 536 535 534 533 532 531 530 529 528 527\n",
      " 526 525 524 523 522 521 520 519 518 517 516 515 514 513 512 511 510 509\n",
      " 508 507 506 505 504 503 502 501 500 499 498 497 496 495 494 493 492 491\n",
      " 490 489 488 487 486 485 484 483 482 481 480 479 478 477 476 475 474 473\n",
      " 472 471 470 469 468 467 466 465 464 463 462 461 460 459 458 457 456 455\n",
      " 454 453 452 451 450 449 448 447 446 445 444 443 442 441 440 439 438 437\n",
      " 436 435 434 433 432 431 430 429 428 427 426 425 424 423 422 421 420 419\n",
      " 418 417 416 415 414 413 412 411 410 409 408 407 406 405 404 403 402 401\n",
      " 400 399 398 397 396 395 394 393 392 391 390 389 388 387 386 385 384 383\n",
      " 382 381 380 379 378 377 376 375 374 373 372 371 370 369 368 367 366 365\n",
      " 364 363 362 361 360 359 358 357 356 355 354 353 352 351 350 349 348 347\n",
      " 346 345 344 343 342 341 340 339 338 337 336 335 334 333 332 331 330 329\n",
      " 328 327 326 325 324 323 322 321 320 319 318 317 316 315 314 313 312 311\n",
      " 310 309 308 307 306 305 304 303 302 301 300 299 298 297 296 295 294 293\n",
      " 292 291 290 289 288 287 286 285 284 283 282 281 280 279 278 277 276 275\n",
      " 274 273 272 271 270 269 268 267 266 265 264 263 262 261 260 259 258 257\n",
      " 256 255 254 253 252 251 250 249 248 247 246 245 244 243 242 241 240 239\n",
      " 238 237 236 235 234 233 232 231 230 229 228 227 226 225 224 223 222 221\n",
      " 220 219 218 217 216 215 214 213 212 211 210 209 208 207 206 205 204 203\n",
      " 202 201 200 199 198 197 196 195 194 193 192 191 190 189 188 187 186 185\n",
      " 184 183 182 181 180 179 178 177 176 175 174 173 172 171 170 169 168 167\n",
      " 166 165 164 163 162 161 160 159 158 157 156 155 154 153 152 151 150 149\n",
      " 148 147 146 145 144 143 142 141 140 139 138 137 136 135 134 133 132 131\n",
      " 130 129 128 127 126 125 124 123 122 121 120 119 118 117 116 115 114 113\n",
      " 112 111 110 109 108 107 106 105 104 103 102 101 100  99  98  97  96  95\n",
      "  94  93  92  91  90  89  88  87  86  85  84  83  82  81  80  79  78  77\n",
      "  76  75  74  73  72  71  70  69  68  67  66  65  64  63  62  61  60  59\n",
      "  58  57  56  55  54  53  52  51  50  49  48  47  46  45  44  43  42  41\n",
      "  40  39  38  37  36  35  34  33  32  31  30  29  28  27  26  25  24  23\n",
      "  22  21  20  19  18  17  16  15  14  13  12  11  10   9   8   7   6   5\n",
      "   4   3   2   1   0]\n"
     ]
    }
   ],
   "source": [
    "np.random.seed(68382)\n",
    "\n",
    "x2 = np.random.random(581)\n",
    "y2 = x2[::-1]  # Sorry, you're not allowed to do this!\n",
    "np.testing.assert_allclose(y2, reverse_array(x2), rtol = 1e-6)"
   ]
  },
  {
   "cell_type": "code",
   "execution_count": null,
   "metadata": {},
   "outputs": [],
   "source": []
  },
  {
   "cell_type": "code",
   "execution_count": null,
   "metadata": {},
   "outputs": [],
   "source": []
  }
 ],
 "metadata": {
  "anaconda-cloud": {},
  "celltoolbar": "Create Assignment",
  "kernelspec": {
   "display_name": "Python 3",
   "language": "python",
   "name": "python3"
  },
  "language_info": {
   "codemirror_mode": {
    "name": "ipython",
    "version": 3
   },
   "file_extension": ".py",
   "mimetype": "text/x-python",
   "name": "python",
   "nbconvert_exporter": "python",
   "pygments_lexer": "ipython3",
   "version": "3.7.4"
  }
 },
 "nbformat": 4,
 "nbformat_minor": 1
}
